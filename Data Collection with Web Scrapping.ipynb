{
 "cells": [
  {
   "cell_type": "markdown",
   "metadata": {},
   "source": [
    "<p style=\"text-align:center\">\n",
    "    <a href=\"https://skills.network/?utm_medium=Exinfluencer&utm_source=Exinfluencer&utm_content=000026UJ&utm_term=10006555&utm_id=NA-SkillsNetwork-Channel-SkillsNetworkCoursesIBMDS0321ENSkillsNetwork26802033-2022-01-01\" target=\"_blank\">\n",
    "    <img src=\"https://cf-courses-data.s3.us.cloud-object-storage.appdomain.cloud/assets/logos/SN_web_lightmode.png\" width=\"200\" alt=\"Skills Network Logo\"  />\n",
    "    </a>\n",
    "</p>\n"
   ]
  },
  {
   "cell_type": "markdown",
   "metadata": {},
   "source": [
    "# **Space X  Falcon 9 First Stage Landing Prediction**\n"
   ]
  },
  {
   "cell_type": "markdown",
   "metadata": {},
   "source": [
    "## Web scraping Falcon 9 and Falcon Heavy Launches Records from Wikipedia\n"
   ]
  },
  {
   "cell_type": "markdown",
   "metadata": {},
   "source": [
    "Estimated time needed: **40** minutes\n"
   ]
  },
  {
   "cell_type": "markdown",
   "metadata": {},
   "source": [
    "In this lab, you will be performing web scraping to collect Falcon 9 historical launch records from a Wikipedia page titled `List of Falcon 9 and Falcon Heavy launches`\n",
    "\n",
    "[https://en.wikipedia.org/wiki/List_of_Falcon\\_9\\_and_Falcon_Heavy_launches](https://en.wikipedia.org/wiki/List_of_Falcon\\_9\\_and_Falcon_Heavy_launches?utm_medium=Exinfluencer&utm_source=Exinfluencer&utm_content=000026UJ&utm_term=10006555&utm_id=NA-SkillsNetwork-Channel-SkillsNetworkCoursesIBMDS0321ENSkillsNetwork26802033-2022-01-01)\n"
   ]
  },
  {
   "cell_type": "markdown",
   "metadata": {},
   "source": [
    "![](https://cf-courses-data.s3.us.cloud-object-storage.appdomain.cloud/IBM-DS0321EN-SkillsNetwork/labs/module\\_1\\_L2/images/Falcon9\\_rocket_family.svg)\n"
   ]
  },
  {
   "cell_type": "markdown",
   "metadata": {},
   "source": [
    "Falcon 9 first stage will land successfully\n"
   ]
  },
  {
   "cell_type": "markdown",
   "metadata": {},
   "source": [
    "![](https://cf-courses-data.s3.us.cloud-object-storage.appdomain.cloud/IBMDeveloperSkillsNetwork-DS0701EN-SkillsNetwork/api/Images/landing\\_1.gif)\n"
   ]
  },
  {
   "cell_type": "markdown",
   "metadata": {},
   "source": [
    "Several examples of an unsuccessful landing are shown here:\n"
   ]
  },
  {
   "cell_type": "markdown",
   "metadata": {},
   "source": [
    "![](https://cf-courses-data.s3.us.cloud-object-storage.appdomain.cloud/IBMDeveloperSkillsNetwork-DS0701EN-SkillsNetwork/api/Images/crash.gif)\n"
   ]
  },
  {
   "cell_type": "markdown",
   "metadata": {},
   "source": [
    "More specifically, the launch records are stored in a HTML table shown below:\n"
   ]
  },
  {
   "cell_type": "markdown",
   "metadata": {},
   "source": [
    "![](https://cf-courses-data.s3.us.cloud-object-storage.appdomain.cloud/IBM-DS0321EN-SkillsNetwork/labs/module\\_1\\_L2/images/falcon9-launches-wiki.png)\n"
   ]
  },
  {
   "cell_type": "markdown",
   "metadata": {},
   "source": [
    "## Objectives\n",
    "\n",
    "Web scrap Falcon 9 launch records with `BeautifulSoup`:\n",
    "\n",
    "*   Extract a Falcon 9 launch records HTML table from Wikipedia\n",
    "*   Parse the table and convert it into a Pandas data frame\n"
   ]
  },
  {
   "cell_type": "markdown",
   "metadata": {},
   "source": [
    "First let's import required packages for this lab\n"
   ]
  },
  {
   "cell_type": "code",
   "execution_count": 1,
   "metadata": {},
   "outputs": [
    {
     "name": "stdout",
     "output_type": "stream",
     "text": [
      "Requirement already satisfied: beautifulsoup4 in /opt/conda/envs/Python-3.10/lib/python3.10/site-packages (4.11.1)\n",
      "Requirement already satisfied: soupsieve>1.2 in /opt/conda/envs/Python-3.10/lib/python3.10/site-packages (from beautifulsoup4) (2.3.1)\n",
      "Requirement already satisfied: requests in /opt/conda/envs/Python-3.10/lib/python3.10/site-packages (2.28.1)\n",
      "Requirement already satisfied: certifi>=2017.4.17 in /opt/conda/envs/Python-3.10/lib/python3.10/site-packages (from requests) (2022.9.24)\n",
      "Requirement already satisfied: charset-normalizer<3,>=2 in /opt/conda/envs/Python-3.10/lib/python3.10/site-packages (from requests) (2.0.4)\n",
      "Requirement already satisfied: urllib3<1.27,>=1.21.1 in /opt/conda/envs/Python-3.10/lib/python3.10/site-packages (from requests) (1.26.11)\n",
      "Requirement already satisfied: idna<4,>=2.5 in /opt/conda/envs/Python-3.10/lib/python3.10/site-packages (from requests) (3.3)\n"
     ]
    }
   ],
   "source": [
    "!pip3 install beautifulsoup4\n",
    "!pip3 install requests"
   ]
  },
  {
   "cell_type": "code",
   "execution_count": 2,
   "metadata": {},
   "outputs": [],
   "source": [
    "import sys\n",
    "\n",
    "import requests\n",
    "from bs4 import BeautifulSoup\n",
    "import re\n",
    "import unicodedata\n",
    "import pandas as pd"
   ]
  },
  {
   "cell_type": "markdown",
   "metadata": {},
   "source": [
    "and we will provide some helper functions for you to process web scraped HTML table\n"
   ]
  },
  {
   "cell_type": "code",
   "execution_count": 35,
   "metadata": {},
   "outputs": [],
   "source": [
    "def date_time(table_cells):\n",
    "    \"\"\"\n",
    "    This function returns the data and time from the HTML  table cell\n",
    "    Input: the  element of a table data cell extracts extra row\n",
    "    \"\"\"\n",
    "    return [data_time.strip() for data_time in list(table_cells.strings)][0:2]\n",
    "\n",
    "def booster_version(table_cells):\n",
    "    \"\"\"\n",
    "    This function returns the booster version from the HTML  table cell \n",
    "    Input: the  element of a table data cell extracts extra row\n",
    "    \"\"\"\n",
    "    out=''.join([booster_version for i,booster_version in enumerate( table_cells.strings) if i%2==0][0:-1])\n",
    "    return out\n",
    "\n",
    "def landing_status(table_cells):\n",
    "    \"\"\"\n",
    "    This function returns the landing status from the HTML table cell \n",
    "    Input: the  element of a table data cell extracts extra row\n",
    "    \"\"\"\n",
    "    out=[i for i in table_cells.strings][0]\n",
    "    return out\n",
    "\n",
    "\n",
    "def get_mass(table_cells):\n",
    "    mass=unicodedata.normalize(\"NFKD\", table_cells.text).strip()\n",
    "    if mass:\n",
    "        mass.find(\"kg\")\n",
    "        new_mass=mass[0:mass.find(\"kg\")+2]\n",
    "    else:\n",
    "        new_mass=0\n",
    "    return new_mass\n",
    "\n",
    "\n",
    "def extract_column_from_header(row):\n",
    "    \"\"\"\n",
    "    This function returns the landing status from the HTML table cell \n",
    "    Input: the  element of a table data cell extracts extra row\n",
    "    \"\"\"\n",
    "    if (row.br):\n",
    "        row.br.extract()\n",
    "    if row.a:\n",
    "        row.a.extract()\n",
    "    if row.sup:\n",
    "        row.sup.extract()\n",
    "        \n",
    "    colunm_name = ' '.join(row.contents)\n",
    "    \n",
    "    # Filter the digit and empty names\n",
    "    if not(colunm_name.strip().isdigit()):\n",
    "        colunm_name = colunm_name.strip()\n",
    "        return colunm_name    \n"
   ]
  },
  {
   "cell_type": "markdown",
   "metadata": {},
   "source": [
    "To keep the lab tasks consistent, you will be asked to scrape the data from a snapshot of the  `List of Falcon 9 and Falcon Heavy launches` Wikipage updated on\n",
    "`9th June 2021`\n"
   ]
  },
  {
   "cell_type": "code",
   "execution_count": 3,
   "metadata": {},
   "outputs": [],
   "source": [
    "static_url = \"https://en.wikipedia.org/w/index.php?title=List_of_Falcon_9_and_Falcon_Heavy_launches&oldid=1027686922\""
   ]
  },
  {
   "cell_type": "markdown",
   "metadata": {},
   "source": [
    "Next, request the HTML page from the above URL and get a `response` object\n"
   ]
  },
  {
   "cell_type": "markdown",
   "metadata": {},
   "source": [
    "### TASK 1: Request the Falcon9 Launch Wiki page from its URL\n"
   ]
  },
  {
   "cell_type": "markdown",
   "metadata": {},
   "source": [
    "First, let's perform an HTTP GET method to request the Falcon9 Launch HTML page, as an HTTP response.\n"
   ]
  },
  {
   "cell_type": "code",
   "execution_count": 5,
   "metadata": {},
   "outputs": [],
   "source": [
    "# use requests.get() method with the provided static_url\n",
    "# assign the response to a object"
   ]
  },
  {
   "cell_type": "code",
   "execution_count": 4,
   "metadata": {},
   "outputs": [],
   "source": [
    "req = requests.get(static_url)"
   ]
  },
  {
   "cell_type": "markdown",
   "metadata": {},
   "source": [
    "Create a `BeautifulSoup` object from the HTML `response`\n"
   ]
  },
  {
   "cell_type": "code",
   "execution_count": 6,
   "metadata": {},
   "outputs": [],
   "source": [
    "# Use BeautifulSoup() to create a BeautifulSoup object from a response text content"
   ]
  },
  {
   "cell_type": "markdown",
   "metadata": {},
   "source": [
    "Print the page title to verify if the `BeautifulSoup` object was created properly\n"
   ]
  },
  {
   "cell_type": "code",
   "execution_count": 5,
   "metadata": {},
   "outputs": [],
   "source": [
    "soup = BeautifulSoup(req.text, \"html.parser\")"
   ]
  },
  {
   "cell_type": "code",
   "execution_count": 7,
   "metadata": {},
   "outputs": [],
   "source": [
    "# Use soup.title attribute"
   ]
  },
  {
   "cell_type": "code",
   "execution_count": 6,
   "metadata": {},
   "outputs": [
    {
     "name": "stdout",
     "output_type": "stream",
     "text": [
      "<title>List of Falcon 9 and Falcon Heavy launches - Wikipedia</title>\n"
     ]
    }
   ],
   "source": [
    "print(soup.title)"
   ]
  },
  {
   "cell_type": "markdown",
   "metadata": {},
   "source": [
    "### TASK 2: Extract all column/variable names from the HTML table header\n"
   ]
  },
  {
   "cell_type": "markdown",
   "metadata": {},
   "source": [
    "Next, we want to collect all relevant column names from the HTML table header\n"
   ]
  },
  {
   "cell_type": "markdown",
   "metadata": {},
   "source": [
    "Let's try to find all tables on the wiki page first. If you need to refresh your memory about `BeautifulSoup`, please check the external reference link towards the end of this lab\n"
   ]
  },
  {
   "cell_type": "code",
   "execution_count": null,
   "metadata": {},
   "outputs": [],
   "source": [
    "# Use the find_all function in the BeautifulSoup object, with element type `table`\n",
    "# Assign the result to a list called `html_tables`\n"
   ]
  },
  {
   "cell_type": "code",
   "execution_count": 30,
   "metadata": {},
   "outputs": [],
   "source": [
    "html_tables=soup.find_all('tr')"
   ]
  },
  {
   "cell_type": "markdown",
   "metadata": {},
   "source": [
    "Starting from the third table is our target table contains the actual launch records.\n"
   ]
  },
  {
   "cell_type": "code",
   "execution_count": 31,
   "metadata": {},
   "outputs": [
    {
     "name": "stdout",
     "output_type": "stream",
     "text": [
      "<tr>\n",
      "<th scope=\"col\">Flight No.\n",
      "</th>\n",
      "<th scope=\"col\">Date and<br/>time (<a href=\"/wiki/Coordinated_Universal_Time\" title=\"Coordinated Universal Time\">UTC</a>)\n",
      "</th>\n",
      "<th scope=\"col\"><a href=\"/wiki/List_of_Falcon_9_first-stage_boosters\" title=\"List of Falcon 9 first-stage boosters\">Version,<br/>Booster</a> <sup class=\"reference\" id=\"cite_ref-booster_11-0\"><a href=\"#cite_note-booster-11\">[b]</a></sup>\n",
      "</th>\n",
      "<th scope=\"col\">Launch site\n",
      "</th>\n",
      "<th scope=\"col\">Payload<sup class=\"reference\" id=\"cite_ref-Dragon_12-0\"><a href=\"#cite_note-Dragon-12\">[c]</a></sup>\n",
      "</th>\n",
      "<th scope=\"col\">Payload mass\n",
      "</th>\n",
      "<th scope=\"col\">Orbit\n",
      "</th>\n",
      "<th scope=\"col\">Customer\n",
      "</th>\n",
      "<th scope=\"col\">Launch<br/>outcome\n",
      "</th>\n",
      "<th scope=\"col\"><a href=\"/wiki/Falcon_9_first-stage_landing_tests\" title=\"Falcon 9 first-stage landing tests\">Booster<br/>landing</a>\n",
      "</th></tr>\n"
     ]
    }
   ],
   "source": [
    "# Let's print the third table and check its content\n",
    "first_launch_table = html_tables[2]\n",
    "print(first_launch_table)"
   ]
  },
  {
   "cell_type": "markdown",
   "metadata": {},
   "source": [
    "You should able to see the columns names embedded in the table header elements `<th>` as follows:\n"
   ]
  },
  {
   "cell_type": "markdown",
   "metadata": {},
   "source": [
    "```\n",
    "<tr>\n",
    "<th scope=\"col\">Flight No.\n",
    "</th>\n",
    "<th scope=\"col\">Date and<br/>time (<a href=\"/wiki/Coordinated_Universal_Time\" title=\"Coordinated Universal Time\">UTC</a>)\n",
    "</th>\n",
    "<th scope=\"col\"><a href=\"/wiki/List_of_Falcon_9_first-stage_boosters\" title=\"List of Falcon 9 first-stage boosters\">Version,<br/>Booster</a> <sup class=\"reference\" id=\"cite_ref-booster_11-0\"><a href=\"#cite_note-booster-11\">[b]</a></sup>\n",
    "</th>\n",
    "<th scope=\"col\">Launch site\n",
    "</th>\n",
    "<th scope=\"col\">Payload<sup class=\"reference\" id=\"cite_ref-Dragon_12-0\"><a href=\"#cite_note-Dragon-12\">[c]</a></sup>\n",
    "</th>\n",
    "<th scope=\"col\">Payload mass\n",
    "</th>\n",
    "<th scope=\"col\">Orbit\n",
    "</th>\n",
    "<th scope=\"col\">Customer\n",
    "</th>\n",
    "<th scope=\"col\">Launch<br/>outcome\n",
    "</th>\n",
    "<th scope=\"col\"><a href=\"/wiki/Falcon_9_first-stage_landing_tests\" title=\"Falcon 9 first-stage landing tests\">Booster<br/>landing</a>\n",
    "</th></tr>\n",
    "```\n"
   ]
  },
  {
   "cell_type": "markdown",
   "metadata": {},
   "source": [
    "Next, we just need to iterate through the `<th>` elements and apply the provided `extract_column_from_header()` to extract column name one by one\n"
   ]
  },
  {
   "cell_type": "code",
   "execution_count": 46,
   "metadata": {},
   "outputs": [
    {
     "ename": "AttributeError",
     "evalue": "ResultSet object has no attribute 'br'. You're probably treating a list of elements like a single element. Did you call find_all() when you meant to call find()?",
     "output_type": "error",
     "traceback": [
      "\u001b[0;31m---------------------------------------------------------------------------\u001b[0m",
      "\u001b[0;31mAttributeError\u001b[0m                            Traceback (most recent call last)",
      "Input \u001b[0;32mIn [46]\u001b[0m, in \u001b[0;36m<cell line: 1>\u001b[0;34m()\u001b[0m\n\u001b[0;32m----> 1\u001b[0m column_names \u001b[38;5;241m=\u001b[39m [\u001b[43mextract_column_from_header\u001b[49m\u001b[43m(\u001b[49m\u001b[43mrow\u001b[49m\u001b[43m)\u001b[49m]\n",
      "Input \u001b[0;32mIn [35]\u001b[0m, in \u001b[0;36mextract_column_from_header\u001b[0;34m(row)\u001b[0m\n\u001b[1;32m     35\u001b[0m \u001b[38;5;28;01mdef\u001b[39;00m \u001b[38;5;21mextract_column_from_header\u001b[39m(row):\n\u001b[1;32m     36\u001b[0m     \u001b[38;5;124;03m\"\"\"\u001b[39;00m\n\u001b[1;32m     37\u001b[0m \u001b[38;5;124;03m    This function returns the landing status from the HTML table cell \u001b[39;00m\n\u001b[1;32m     38\u001b[0m \u001b[38;5;124;03m    Input: the  element of a table data cell extracts extra row\u001b[39;00m\n\u001b[1;32m     39\u001b[0m \u001b[38;5;124;03m    \"\"\"\u001b[39;00m\n\u001b[0;32m---> 40\u001b[0m     \u001b[38;5;28;01mif\u001b[39;00m (\u001b[43mrow\u001b[49m\u001b[38;5;241;43m.\u001b[39;49m\u001b[43mbr\u001b[49m):\n\u001b[1;32m     41\u001b[0m         row\u001b[38;5;241m.\u001b[39mbr\u001b[38;5;241m.\u001b[39mextract()\n\u001b[1;32m     42\u001b[0m     \u001b[38;5;28;01mif\u001b[39;00m row\u001b[38;5;241m.\u001b[39ma:\n",
      "File \u001b[0;32m/opt/conda/envs/Python-3.10/lib/python3.10/site-packages/bs4/element.py:2289\u001b[0m, in \u001b[0;36mResultSet.__getattr__\u001b[0;34m(self, key)\u001b[0m\n\u001b[1;32m   2287\u001b[0m \u001b[38;5;28;01mdef\u001b[39;00m \u001b[38;5;21m__getattr__\u001b[39m(\u001b[38;5;28mself\u001b[39m, key):\n\u001b[1;32m   2288\u001b[0m     \u001b[38;5;124;03m\"\"\"Raise a helpful exception to explain a common code fix.\"\"\"\u001b[39;00m\n\u001b[0;32m-> 2289\u001b[0m     \u001b[38;5;28;01mraise\u001b[39;00m \u001b[38;5;167;01mAttributeError\u001b[39;00m(\n\u001b[1;32m   2290\u001b[0m         \u001b[38;5;124m\"\u001b[39m\u001b[38;5;124mResultSet object has no attribute \u001b[39m\u001b[38;5;124m'\u001b[39m\u001b[38;5;132;01m%s\u001b[39;00m\u001b[38;5;124m'\u001b[39m\u001b[38;5;124m. You\u001b[39m\u001b[38;5;124m'\u001b[39m\u001b[38;5;124mre probably treating a list of elements like a single element. Did you call find_all() when you meant to call find()?\u001b[39m\u001b[38;5;124m\"\u001b[39m \u001b[38;5;241m%\u001b[39m key\n\u001b[1;32m   2291\u001b[0m     )\n",
      "\u001b[0;31mAttributeError\u001b[0m: ResultSet object has no attribute 'br'. You're probably treating a list of elements like a single element. Did you call find_all() when you meant to call find()?"
     ]
    }
   ],
   "source": [
    "column_names = [extract_column_from_header(row)]\n",
    "\n",
    "# Apply find_all() function with `th` element on first_launch_table\n",
    "# Iterate each th element and apply the provided extract_column_from_header() to get a column name\n",
    "# Append the Non-empty column name (`if name is not None and len(name) > 0`) into a list called column_names\n"
   ]
  },
  {
   "cell_type": "code",
   "execution_count": 10,
   "metadata": {},
   "outputs": [],
   "source": []
  },
  {
   "cell_type": "code",
   "execution_count": 24,
   "metadata": {},
   "outputs": [
    {
     "data": {
      "text/plain": [
       "[<th scope=\"col\">Flight No.\n",
       " </th>,\n",
       " <th scope=\"col\">Date and<br/>time (<a href=\"/wiki/Coordinated_Universal_Time\" title=\"Coordinated Universal Time\">UTC</a>)\n",
       " </th>,\n",
       " <th scope=\"col\"><a href=\"/wiki/List_of_Falcon_9_first-stage_boosters\" title=\"List of Falcon 9 first-stage boosters\">Version,<br/>Booster</a> <sup class=\"reference\" id=\"cite_ref-booster_11-0\"><a href=\"#cite_note-booster-11\">[b]</a></sup>\n",
       " </th>,\n",
       " <th scope=\"col\">Launch site\n",
       " </th>,\n",
       " <th scope=\"col\">Payload<sup class=\"reference\" id=\"cite_ref-Dragon_12-0\"><a href=\"#cite_note-Dragon-12\">[c]</a></sup>\n",
       " </th>,\n",
       " <th scope=\"col\">Payload mass\n",
       " </th>,\n",
       " <th scope=\"col\">Orbit\n",
       " </th>,\n",
       " <th scope=\"col\">Customer\n",
       " </th>,\n",
       " <th scope=\"col\">Launch<br/>outcome\n",
       " </th>,\n",
       " <th scope=\"col\"><a href=\"/wiki/Falcon_9_first-stage_landing_tests\" title=\"Falcon 9 first-stage landing tests\">Booster<br/>landing</a>\n",
       " </th>,\n",
       " <th rowspan=\"2\" scope=\"row\" style=\"text-align:center;\">1\n",
       " </th>,\n",
       " <th rowspan=\"2\" scope=\"row\" style=\"text-align:center;\">2\n",
       " </th>,\n",
       " <th rowspan=\"2\" scope=\"row\" style=\"text-align:center;\">3\n",
       " </th>,\n",
       " <th rowspan=\"3\" scope=\"row\" style=\"text-align:center;\">4\n",
       " </th>,\n",
       " <th rowspan=\"2\" scope=\"row\" style=\"text-align:center;\">5\n",
       " </th>,\n",
       " <th rowspan=\"2\" scope=\"row\" style=\"text-align:center;\">6\n",
       " </th>,\n",
       " <th rowspan=\"2\" scope=\"row\" style=\"text-align:center;\">7\n",
       " </th>,\n",
       " <th scope=\"col\">Flight No.\n",
       " </th>,\n",
       " <th scope=\"col\">Date and<br/>time (<a href=\"/wiki/Coordinated_Universal_Time\" title=\"Coordinated Universal Time\">UTC</a>)\n",
       " </th>,\n",
       " <th scope=\"col\"><a href=\"/wiki/List_of_Falcon_9_first-stage_boosters\" title=\"List of Falcon 9 first-stage boosters\">Version,<br/>Booster</a><sup class=\"reference\" id=\"cite_ref-booster_11-1\"><a href=\"#cite_note-booster-11\">[b]</a></sup>\n",
       " </th>,\n",
       " <th scope=\"col\">Launch site\n",
       " </th>,\n",
       " <th scope=\"col\">Payload<sup class=\"reference\" id=\"cite_ref-Dragon_12-1\"><a href=\"#cite_note-Dragon-12\">[c]</a></sup>\n",
       " </th>,\n",
       " <th scope=\"col\">Payload mass\n",
       " </th>,\n",
       " <th scope=\"col\">Orbit\n",
       " </th>,\n",
       " <th scope=\"col\">Customer\n",
       " </th>,\n",
       " <th scope=\"col\">Launch<br/>outcome\n",
       " </th>,\n",
       " <th scope=\"col\"><a href=\"/wiki/Falcon_9_first-stage_landing_tests\" title=\"Falcon 9 first-stage landing tests\">Booster<br/>landing</a>\n",
       " </th>,\n",
       " <th rowspan=\"2\" scope=\"row\" style=\"text-align:center;\">8\n",
       " </th>,\n",
       " <th rowspan=\"2\" scope=\"row\" style=\"text-align:center;\">9\n",
       " </th>,\n",
       " <th rowspan=\"2\" scope=\"row\" style=\"text-align:center;\">10\n",
       " </th>,\n",
       " <th rowspan=\"2\" scope=\"row\" style=\"text-align:center;\">11\n",
       " </th>,\n",
       " <th rowspan=\"2\" scope=\"row\" style=\"text-align:center;\">12\n",
       " </th>,\n",
       " <th rowspan=\"2\" scope=\"row\" style=\"text-align:center;\">13\n",
       " </th>,\n",
       " <th scope=\"col\">Flight No.\n",
       " </th>,\n",
       " <th scope=\"col\">Date and<br/>time (<a href=\"/wiki/Coordinated_Universal_Time\" title=\"Coordinated Universal Time\">UTC</a>)\n",
       " </th>,\n",
       " <th scope=\"col\"><a href=\"/wiki/List_of_Falcon_9_first-stage_boosters\" title=\"List of Falcon 9 first-stage boosters\">Version,<br/>Booster</a><sup class=\"reference\" id=\"cite_ref-booster_11-2\"><a href=\"#cite_note-booster-11\">[b]</a></sup>\n",
       " </th>,\n",
       " <th scope=\"col\">Launch site\n",
       " </th>,\n",
       " <th scope=\"col\">Payload<sup class=\"reference\" id=\"cite_ref-Dragon_12-2\"><a href=\"#cite_note-Dragon-12\">[c]</a></sup>\n",
       " </th>,\n",
       " <th scope=\"col\">Payload mass\n",
       " </th>,\n",
       " <th scope=\"col\">Orbit\n",
       " </th>,\n",
       " <th scope=\"col\">Customer\n",
       " </th>,\n",
       " <th scope=\"col\">Launch<br/>outcome\n",
       " </th>,\n",
       " <th scope=\"col\"><a href=\"/wiki/Falcon_9_first-stage_landing_tests\" title=\"Falcon 9 first-stage landing tests\">Booster<br/>landing</a>\n",
       " </th>,\n",
       " <th rowspan=\"2\" scope=\"row\" style=\"text-align:center;\">14\n",
       " </th>,\n",
       " <th rowspan=\"2\" scope=\"row\" style=\"text-align:center;\">15\n",
       " </th>,\n",
       " <th rowspan=\"2\" scope=\"row\" style=\"text-align:center;\">16\n",
       " </th>,\n",
       " <th rowspan=\"2\" scope=\"row\" style=\"text-align:center;\">17\n",
       " </th>,\n",
       " <th rowspan=\"2\" scope=\"row\" style=\"text-align:center;\">18\n",
       " </th>,\n",
       " <th rowspan=\"2\" scope=\"row\" style=\"text-align:center;\">19\n",
       " </th>,\n",
       " <th rowspan=\"2\" scope=\"row\" style=\"text-align:center;\">20\n",
       " </th>,\n",
       " <th scope=\"col\">Flight No.\n",
       " </th>,\n",
       " <th scope=\"col\">Date and<br/>time (<a href=\"/wiki/Coordinated_Universal_Time\" title=\"Coordinated Universal Time\">UTC</a>)\n",
       " </th>,\n",
       " <th scope=\"col\"><a href=\"/wiki/List_of_Falcon_9_first-stage_boosters\" title=\"List of Falcon 9 first-stage boosters\">Version,<br/>Booster</a><sup class=\"reference\" id=\"cite_ref-booster_11-3\"><a href=\"#cite_note-booster-11\">[b]</a></sup>\n",
       " </th>,\n",
       " <th scope=\"col\">Launch site\n",
       " </th>,\n",
       " <th scope=\"col\">Payload<sup class=\"reference\" id=\"cite_ref-Dragon_12-3\"><a href=\"#cite_note-Dragon-12\">[c]</a></sup>\n",
       " </th>,\n",
       " <th scope=\"col\">Payload mass\n",
       " </th>,\n",
       " <th scope=\"col\">Orbit\n",
       " </th>,\n",
       " <th scope=\"col\">Customer\n",
       " </th>,\n",
       " <th scope=\"col\">Launch<br/>outcome\n",
       " </th>,\n",
       " <th scope=\"col\"><a href=\"/wiki/Falcon_9_first-stage_landing_tests\" title=\"Falcon 9 first-stage landing tests\">Booster<br/>landing</a>\n",
       " </th>,\n",
       " <th rowspan=\"2\" scope=\"row\" style=\"text-align:center;\">21\n",
       " </th>,\n",
       " <th rowspan=\"2\" scope=\"row\" style=\"text-align:center;\">22\n",
       " </th>,\n",
       " <th rowspan=\"2\" scope=\"row\" style=\"text-align:center;\">23\n",
       " </th>,\n",
       " <th rowspan=\"2\" scope=\"row\" style=\"text-align:center;\">24\n",
       " </th>,\n",
       " <th rowspan=\"2\" scope=\"row\" style=\"text-align:center;\">25\n",
       " </th>,\n",
       " <th rowspan=\"2\" scope=\"row\" style=\"text-align:center;\">26\n",
       " </th>,\n",
       " <th rowspan=\"2\" scope=\"row\" style=\"text-align:center;\">27\n",
       " </th>,\n",
       " <th rowspan=\"2\" scope=\"row\" style=\"text-align:center;\">28\n",
       " </th>,\n",
       " <th rowspan=\"2\" scope=\"row\" style=\"text-align:center;\">N/A <sup class=\"reference\" id=\"cite_ref-152\"><a href=\"#cite_note-152\">[e]</a></sup>\n",
       " </th>,\n",
       " <th scope=\"col\">Flight No.\n",
       " </th>,\n",
       " <th scope=\"col\">Date and<br/>time (<a href=\"/wiki/Coordinated_Universal_Time\" title=\"Coordinated Universal Time\">UTC</a>)\n",
       " </th>,\n",
       " <th scope=\"col\"><a href=\"/wiki/List_of_Falcon_9_first-stage_boosters\" title=\"List of Falcon 9 first-stage boosters\">Version,<br/>Booster</a><sup class=\"reference\" id=\"cite_ref-booster_11-4\"><a href=\"#cite_note-booster-11\">[b]</a></sup>\n",
       " </th>,\n",
       " <th scope=\"col\">Launch site\n",
       " </th>,\n",
       " <th scope=\"col\">Payload<sup class=\"reference\" id=\"cite_ref-Dragon_12-4\"><a href=\"#cite_note-Dragon-12\">[c]</a></sup>\n",
       " </th>,\n",
       " <th scope=\"col\">Payload mass\n",
       " </th>,\n",
       " <th scope=\"col\">Orbit\n",
       " </th>,\n",
       " <th scope=\"col\">Customer\n",
       " </th>,\n",
       " <th scope=\"col\">Launch<br/>outcome\n",
       " </th>,\n",
       " <th scope=\"col\"><a href=\"/wiki/Falcon_9_first-stage_landing_tests\" title=\"Falcon 9 first-stage landing tests\">Booster<br/>landing</a>\n",
       " </th>,\n",
       " <th rowspan=\"2\" scope=\"row\" style=\"text-align:center;\">29\n",
       " </th>,\n",
       " <th rowspan=\"2\" scope=\"row\" style=\"text-align:center;\">30\n",
       " </th>,\n",
       " <th rowspan=\"2\" scope=\"row\" style=\"text-align:center;\">31\n",
       " </th>,\n",
       " <th rowspan=\"2\" scope=\"row\" style=\"text-align:center;\">32\n",
       " </th>,\n",
       " <th rowspan=\"2\" scope=\"row\" style=\"text-align:center;\">33\n",
       " </th>,\n",
       " <th rowspan=\"2\" scope=\"row\" style=\"text-align:center;\">34\n",
       " </th>,\n",
       " <th rowspan=\"2\" scope=\"row\" style=\"text-align:center;\">35\n",
       " </th>,\n",
       " <th rowspan=\"2\" scope=\"row\" style=\"text-align:center;\">36\n",
       " </th>,\n",
       " <th rowspan=\"2\" scope=\"row\" style=\"text-align:center;\">37\n",
       " </th>,\n",
       " <th rowspan=\"2\" scope=\"row\" style=\"text-align:center;\">38\n",
       " </th>,\n",
       " <th rowspan=\"2\" scope=\"row\" style=\"text-align:center;\">39\n",
       " </th>,\n",
       " <th rowspan=\"2\" scope=\"row\" style=\"text-align:center;\">40\n",
       " </th>,\n",
       " <th rowspan=\"2\" scope=\"row\" style=\"text-align:center;\">41\n",
       " </th>,\n",
       " <th rowspan=\"2\" scope=\"row\" style=\"text-align:center;\">42\n",
       " </th>,\n",
       " <th rowspan=\"2\" scope=\"row\" style=\"text-align:center;\">43\n",
       " </th>,\n",
       " <th rowspan=\"2\" scope=\"row\" style=\"text-align:center;\">44\n",
       " </th>,\n",
       " <th rowspan=\"2\" scope=\"row\" style=\"text-align:center;\">45\n",
       " </th>,\n",
       " <th rowspan=\"2\" scope=\"row\" style=\"text-align:center;\">46\n",
       " </th>,\n",
       " <th scope=\"col\">Flight No.\n",
       " </th>,\n",
       " <th scope=\"col\">Date and<br/>time (<a href=\"/wiki/Coordinated_Universal_Time\" title=\"Coordinated Universal Time\">UTC</a>)\n",
       " </th>,\n",
       " <th scope=\"col\"><a href=\"/wiki/List_of_Falcon_9_first-stage_boosters\" title=\"List of Falcon 9 first-stage boosters\">Version,<br/>Booster</a><sup class=\"reference\" id=\"cite_ref-booster_11-5\"><a href=\"#cite_note-booster-11\">[b]</a></sup>\n",
       " </th>,\n",
       " <th scope=\"col\">Launch site\n",
       " </th>,\n",
       " <th scope=\"col\">Payload<sup class=\"reference\" id=\"cite_ref-Dragon_12-5\"><a href=\"#cite_note-Dragon-12\">[c]</a></sup>\n",
       " </th>,\n",
       " <th scope=\"col\">Payload mass\n",
       " </th>,\n",
       " <th scope=\"col\">Orbit\n",
       " </th>,\n",
       " <th scope=\"col\">Customer\n",
       " </th>,\n",
       " <th scope=\"col\">Launch<br/>outcome\n",
       " </th>,\n",
       " <th scope=\"col\"><a href=\"/wiki/Falcon_9_first-stage_landing_tests\" title=\"Falcon 9 first-stage landing tests\">Booster<br/>landing</a>\n",
       " </th>,\n",
       " <th rowspan=\"2\" scope=\"row\" style=\"text-align:center;\">47\n",
       " </th>,\n",
       " <th rowspan=\"2\" scope=\"row\" style=\"text-align:center;\">48\n",
       " </th>,\n",
       " <th rowspan=\"4\" scope=\"row\" style=\"text-align:center;\"><a href=\"/wiki/Falcon_Heavy_test_flight\" title=\"Falcon Heavy test flight\">FH 1</a>\n",
       " </th>,\n",
       " <th rowspan=\"2\" scope=\"row\" style=\"text-align:center;\">49\n",
       " </th>,\n",
       " <th rowspan=\"2\" scope=\"row\" style=\"text-align:center;\">50\n",
       " </th>,\n",
       " <th rowspan=\"2\" scope=\"row\" style=\"text-align:center;\">51\n",
       " </th>,\n",
       " <th rowspan=\"2\" scope=\"row\" style=\"text-align:center;\">52\n",
       " </th>,\n",
       " <th rowspan=\"2\" scope=\"row\" style=\"text-align:center;\">53\n",
       " </th>,\n",
       " <th rowspan=\"2\" scope=\"row\" style=\"text-align:center;\">54\n",
       " </th>,\n",
       " <th rowspan=\"2\" scope=\"row\" style=\"text-align:center;\">55\n",
       " </th>,\n",
       " <th rowspan=\"2\" scope=\"row\" style=\"text-align:center;\">56\n",
       " </th>,\n",
       " <th rowspan=\"2\" scope=\"row\" style=\"text-align:center;\">57\n",
       " </th>,\n",
       " <th rowspan=\"2\" scope=\"row\" style=\"text-align:center;\">58\n",
       " </th>,\n",
       " <th rowspan=\"2\" scope=\"row\" style=\"text-align:center;\">59\n",
       " </th>,\n",
       " <th rowspan=\"2\" scope=\"row\" style=\"text-align:center;\">60\n",
       " </th>,\n",
       " <th rowspan=\"2\" scope=\"row\" style=\"text-align:center;\">61\n",
       " </th>,\n",
       " <th rowspan=\"2\" scope=\"row\" style=\"text-align:center;\">62\n",
       " </th>,\n",
       " <th rowspan=\"2\" scope=\"row\" style=\"text-align:center;\">63\n",
       " </th>,\n",
       " <th rowspan=\"2\" scope=\"row\" style=\"text-align:center;\">64\n",
       " </th>,\n",
       " <th rowspan=\"2\" scope=\"row\" style=\"text-align:center;\">65\n",
       " </th>,\n",
       " <th rowspan=\"2\" scope=\"row\" style=\"text-align:center;\">66\n",
       " </th>,\n",
       " <th scope=\"col\">Flight No.\n",
       " </th>,\n",
       " <th scope=\"col\">Date and<br/>time (<a href=\"/wiki/Coordinated_Universal_Time\" title=\"Coordinated Universal Time\">UTC</a>)\n",
       " </th>,\n",
       " <th scope=\"col\"><a href=\"/wiki/List_of_Falcon_9_first-stage_boosters\" title=\"List of Falcon 9 first-stage boosters\">Version,<br/>Booster</a><sup class=\"reference\" id=\"cite_ref-booster_11-6\"><a href=\"#cite_note-booster-11\">[b]</a></sup>\n",
       " </th>,\n",
       " <th scope=\"col\">Launch<br/>site\n",
       " </th>,\n",
       " <th scope=\"col\">Payload<sup class=\"reference\" id=\"cite_ref-Dragon_12-6\"><a href=\"#cite_note-Dragon-12\">[c]</a></sup>\n",
       " </th>,\n",
       " <th scope=\"col\">Payload mass\n",
       " </th>,\n",
       " <th scope=\"col\">Orbit\n",
       " </th>,\n",
       " <th scope=\"col\">Customer\n",
       " </th>,\n",
       " <th scope=\"col\">Launch<br/>outcome\n",
       " </th>,\n",
       " <th scope=\"col\"><a href=\"/wiki/Falcon_9_first-stage_landing_tests\" title=\"Falcon 9 first-stage landing tests\">Booster<br/>landing</a>\n",
       " </th>,\n",
       " <th rowspan=\"2\" scope=\"row\" style=\"text-align:center;\">67\n",
       " </th>,\n",
       " <th rowspan=\"2\" scope=\"row\" style=\"text-align:center;\">68\n",
       " </th>,\n",
       " <th rowspan=\"2\" scope=\"row\" style=\"text-align:center;\">69\n",
       " </th>,\n",
       " <th rowspan=\"4\" scope=\"row\" style=\"text-align:center;\">FH 2\n",
       " </th>,\n",
       " <th rowspan=\"2\" scope=\"row\" style=\"text-align:center;\">70\n",
       " </th>,\n",
       " <th rowspan=\"2\" scope=\"row\" style=\"text-align:center;\">71\n",
       " </th>,\n",
       " <th rowspan=\"2\" scope=\"row\" style=\"text-align:center;\">72\n",
       " </th>,\n",
       " <th rowspan=\"4\" scope=\"row\" style=\"text-align:center;\">FH 3\n",
       " </th>,\n",
       " <th rowspan=\"2\" scope=\"row\" style=\"text-align:center;\">73\n",
       " </th>,\n",
       " <th rowspan=\"2\" scope=\"row\" style=\"text-align:center;\">74\n",
       " </th>,\n",
       " <th rowspan=\"2\" scope=\"row\" style=\"text-align:center;\">75\n",
       " </th>,\n",
       " <th rowspan=\"2\" scope=\"row\" style=\"text-align:center;\">76\n",
       " </th>,\n",
       " <th rowspan=\"2\" scope=\"row\" style=\"text-align:center;\">77\n",
       " </th>,\n",
       " <th scope=\"col\">Flight No.\n",
       " </th>,\n",
       " <th scope=\"col\">Date and<br/>time (<a href=\"/wiki/Coordinated_Universal_Time\" title=\"Coordinated Universal Time\">UTC</a>)\n",
       " </th>,\n",
       " <th scope=\"col\"><a href=\"/wiki/List_of_Falcon_9_first-stage_boosters\" title=\"List of Falcon 9 first-stage boosters\">Version,<br/>Booster</a><sup class=\"reference\" id=\"cite_ref-booster_11-7\"><a href=\"#cite_note-booster-11\">[b]</a></sup>\n",
       " </th>,\n",
       " <th scope=\"col\">Launch<br/>site\n",
       " </th>,\n",
       " <th scope=\"col\">Payload<sup class=\"reference\" id=\"cite_ref-Dragon_12-7\"><a href=\"#cite_note-Dragon-12\">[c]</a></sup>\n",
       " </th>,\n",
       " <th scope=\"col\">Payload mass\n",
       " </th>,\n",
       " <th scope=\"col\">Orbit\n",
       " </th>,\n",
       " <th scope=\"col\">Customer\n",
       " </th>,\n",
       " <th scope=\"col\">Launch<br/>outcome\n",
       " </th>,\n",
       " <th scope=\"col\"><a href=\"/wiki/Falcon_9_first-stage_landing_tests\" title=\"Falcon 9 first-stage landing tests\">Booster<br/>landing</a>\n",
       " </th>,\n",
       " <th rowspan=\"2\" scope=\"row\" style=\"text-align:center;\">78\n",
       " </th>,\n",
       " <th rowspan=\"2\" scope=\"row\" style=\"text-align:center;\">79\n",
       " </th>,\n",
       " <th rowspan=\"2\" scope=\"row\" style=\"text-align:center;\">80\n",
       " </th>,\n",
       " <th rowspan=\"2\" scope=\"row\" style=\"text-align:center;\">81\n",
       " </th>,\n",
       " <th rowspan=\"2\" scope=\"row\" style=\"text-align:center;\">82\n",
       " </th>,\n",
       " <th rowspan=\"2\" scope=\"row\" style=\"text-align:center;\">83\n",
       " </th>,\n",
       " <th rowspan=\"2\" scope=\"row\" style=\"text-align:center;\">84\n",
       " </th>,\n",
       " <th rowspan=\"2\" scope=\"row\" style=\"text-align:center;\">85\n",
       " </th>,\n",
       " <th rowspan=\"2\" scope=\"row\" style=\"text-align:center;\">86\n",
       " </th>,\n",
       " <th rowspan=\"2\" scope=\"row\" style=\"text-align:center;\">87\n",
       " </th>,\n",
       " <th rowspan=\"2\" scope=\"row\" style=\"text-align:center;\">88\n",
       " </th>,\n",
       " <th rowspan=\"2\" scope=\"row\" style=\"text-align:center;\">89\n",
       " </th>,\n",
       " <th rowspan=\"2\" scope=\"row\" style=\"text-align:center;\">90\n",
       " </th>,\n",
       " <th rowspan=\"2\" scope=\"row\" style=\"text-align:center;\">91\n",
       " </th>,\n",
       " <th rowspan=\"2\" scope=\"row\" style=\"text-align:center;\">92\n",
       " </th>,\n",
       " <th rowspan=\"2\" scope=\"row\" style=\"text-align:center;\">93\n",
       " </th>,\n",
       " <th rowspan=\"2\" scope=\"row\" style=\"text-align:center;\">94\n",
       " </th>,\n",
       " <th rowspan=\"2\" scope=\"row\" style=\"text-align:center;\">95\n",
       " </th>,\n",
       " <th rowspan=\"2\" scope=\"row\" style=\"text-align:center;\">96\n",
       " </th>,\n",
       " <th rowspan=\"2\" scope=\"row\" style=\"text-align:center;\">97\n",
       " </th>,\n",
       " <th rowspan=\"2\" scope=\"row\" style=\"text-align:center;\">98\n",
       " </th>,\n",
       " <th rowspan=\"2\" scope=\"row\" style=\"text-align:center;\">99\n",
       " </th>,\n",
       " <th rowspan=\"2\" scope=\"row\" style=\"text-align:center;\">100\n",
       " </th>,\n",
       " <th rowspan=\"2\" scope=\"row\" style=\"text-align:center;\">101\n",
       " </th>,\n",
       " <th rowspan=\"2\" scope=\"row\" style=\"text-align:center;\">102\n",
       " </th>,\n",
       " <th rowspan=\"2\" scope=\"row\" style=\"text-align:center;\">103\n",
       " </th>,\n",
       " <th scope=\"col\">Flight\n",
       " <p>No.\n",
       " </p>\n",
       " </th>,\n",
       " <th scope=\"col\">Date and<br/>time (<a href=\"/wiki/Coordinated_Universal_Time\" title=\"Coordinated Universal Time\">UTC</a>)\n",
       " </th>,\n",
       " <th scope=\"col\"><a href=\"/wiki/List_of_Falcon_9_first-stage_boosters\" title=\"List of Falcon 9 first-stage boosters\">Version,<br/>Booster</a><sup class=\"reference\" id=\"cite_ref-booster_11-8\"><a href=\"#cite_note-booster-11\">[b]</a></sup>\n",
       " </th>,\n",
       " <th scope=\"col\">Launch<br/>site\n",
       " </th>,\n",
       " <th scope=\"col\">Payload<sup class=\"reference\" id=\"cite_ref-Dragon_12-8\"><a href=\"#cite_note-Dragon-12\">[c]</a></sup>\n",
       " </th>,\n",
       " <th scope=\"col\">Payload mass\n",
       " </th>,\n",
       " <th scope=\"col\">Orbit\n",
       " </th>,\n",
       " <th scope=\"col\">Customer\n",
       " </th>,\n",
       " <th scope=\"col\">Launch<br/>outcome\n",
       " </th>,\n",
       " <th scope=\"col\"><a href=\"/wiki/Falcon_9_first-stage_landing_tests\" title=\"Falcon 9 first-stage landing tests\">Booster<br/>landing</a>\n",
       " </th>,\n",
       " <th rowspan=\"2\" scope=\"row\" style=\"text-align:center;\">104\n",
       " </th>,\n",
       " <th rowspan=\"2\" scope=\"row\" style=\"text-align:center;\">105\n",
       " </th>,\n",
       " <th rowspan=\"2\" scope=\"row\" style=\"text-align:center;\">106\n",
       " </th>,\n",
       " <th rowspan=\"2\" scope=\"row\" style=\"text-align:center;\">107\n",
       " </th>,\n",
       " <th rowspan=\"2\" scope=\"row\" style=\"text-align:center;\">108\n",
       " </th>,\n",
       " <th rowspan=\"2\" scope=\"row\" style=\"text-align:center;\">109\n",
       " </th>,\n",
       " <th rowspan=\"2\" scope=\"row\" style=\"text-align:center;\">110\n",
       " </th>,\n",
       " <th rowspan=\"2\" scope=\"row\" style=\"text-align:center;\">111\n",
       " </th>,\n",
       " <th rowspan=\"2\" scope=\"row\" style=\"text-align:center;\">112\n",
       " </th>,\n",
       " <th rowspan=\"2\" scope=\"row\" style=\"text-align:center;\">113\n",
       " </th>,\n",
       " <th rowspan=\"2\" scope=\"row\" style=\"text-align:center;\">114\n",
       " </th>,\n",
       " <th rowspan=\"2\" scope=\"row\" style=\"text-align:center;\">115\n",
       " </th>,\n",
       " <th rowspan=\"2\" scope=\"row\" style=\"text-align:center;\">116\n",
       " </th>,\n",
       " <th rowspan=\"2\" scope=\"row\" style=\"text-align:center;\">117\n",
       " </th>,\n",
       " <th rowspan=\"2\" scope=\"row\" style=\"text-align:center;\">118\n",
       " </th>,\n",
       " <th rowspan=\"2\" scope=\"row\" style=\"text-align:center;\">119\n",
       " </th>,\n",
       " <th rowspan=\"2\" scope=\"row\" style=\"text-align:center;\">120\n",
       " </th>,\n",
       " <th rowspan=\"2\" scope=\"row\" style=\"text-align:center;\">121\n",
       " </th>,\n",
       " <th scope=\"col\" style=\"width: 10%;\">Date and time (<a href=\"/wiki/Coordinated_Universal_Time\" title=\"Coordinated Universal Time\">UTC</a>)\n",
       " </th>,\n",
       " <th scope=\"col\"><a href=\"/wiki/List_of_Falcon_9_first-stage_boosters\" title=\"List of Falcon 9 first-stage boosters\">Version,<br/>Booster</a><sup class=\"reference\" id=\"cite_ref-booster_11-9\"><a href=\"#cite_note-booster-11\">[b]</a></sup>\n",
       " </th>,\n",
       " <th scope=\"col\">Launch site\n",
       " </th>,\n",
       " <th scope=\"col\">Payload<sup class=\"reference\" id=\"cite_ref-Dragon_12-9\"><a href=\"#cite_note-Dragon-12\">[c]</a></sup>\n",
       " </th>,\n",
       " <th scope=\"col\">Orbit\n",
       " </th>,\n",
       " <th scope=\"col\">Customer\n",
       " </th>,\n",
       " <th scope=\"col\" style=\"width: 10%;\">Date and time (<a href=\"/wiki/Coordinated_Universal_Time\" title=\"Coordinated Universal Time\">UTC</a>)\n",
       " </th>,\n",
       " <th scope=\"col\"><a href=\"/wiki/List_of_Falcon_9_first-stage_boosters\" title=\"List of Falcon 9 first-stage boosters\">Version,<br/>Booster</a><sup class=\"reference\" id=\"cite_ref-booster_11-10\"><a href=\"#cite_note-booster-11\">[b]</a></sup>\n",
       " </th>,\n",
       " <th scope=\"col\">Launch site\n",
       " </th>,\n",
       " <th scope=\"col\">Payload<sup class=\"reference\" id=\"cite_ref-Dragon_12-10\"><a href=\"#cite_note-Dragon-12\">[c]</a></sup>\n",
       " </th>,\n",
       " <th scope=\"col\">Orbit\n",
       " </th>,\n",
       " <th scope=\"col\">Customer\n",
       " </th>,\n",
       " <th scope=\"col\" style=\"width: 10%;\">Date and time (<a href=\"/wiki/Coordinated_Universal_Time\" title=\"Coordinated Universal Time\">UTC</a>)\n",
       " </th>,\n",
       " <th scope=\"col\"><a href=\"/wiki/List_of_Falcon_9_first-stage_boosters\" title=\"List of Falcon 9 first-stage boosters\">Version,<br/>Booster</a><sup class=\"reference\" id=\"cite_ref-booster_11-11\"><a href=\"#cite_note-booster-11\">[b]</a></sup>\n",
       " </th>,\n",
       " <th scope=\"col\">Launch site\n",
       " </th>,\n",
       " <th scope=\"col\">Payload<sup class=\"reference\" id=\"cite_ref-Dragon_12-11\"><a href=\"#cite_note-Dragon-12\">[c]</a></sup>\n",
       " </th>,\n",
       " <th scope=\"col\">Orbit\n",
       " </th>,\n",
       " <th scope=\"col\">Customer\n",
       " </th>,\n",
       " <th scope=\"col\" style=\"width: 10%;\">Date and time (<a href=\"/wiki/Coordinated_Universal_Time\" title=\"Coordinated Universal Time\">UTC</a>)\n",
       " </th>,\n",
       " <th scope=\"col\"><a href=\"/wiki/List_of_Falcon_9_first-stage_boosters\" title=\"List of Falcon 9 first-stage boosters\">Version,<br/>Booster</a><sup class=\"reference\" id=\"cite_ref-booster_11-12\"><a href=\"#cite_note-booster-11\">[b]</a></sup>\n",
       " </th>,\n",
       " <th scope=\"col\">Launch site\n",
       " </th>,\n",
       " <th scope=\"col\">Payload<sup class=\"reference\" id=\"cite_ref-Dragon_12-12\"><a href=\"#cite_note-Dragon-12\">[c]</a></sup>\n",
       " </th>,\n",
       " <th scope=\"col\">Orbit\n",
       " </th>,\n",
       " <th scope=\"col\">Customer\n",
       " </th>,\n",
       " <th class=\"navbox-title\" colspan=\"2\" scope=\"col\"><style data-mw-deduplicate=\"TemplateStyles:r1063604349\">.mw-parser-output .navbar{display:inline;font-size:88%;font-weight:normal}.mw-parser-output .navbar-collapse{float:left;text-align:left}.mw-parser-output .navbar-boxtext{word-spacing:0}.mw-parser-output .navbar ul{display:inline-block;white-space:nowrap;line-height:inherit}.mw-parser-output .navbar-brackets::before{margin-right:-0.125em;content:\"[ \"}.mw-parser-output .navbar-brackets::after{margin-left:-0.125em;content:\" ]\"}.mw-parser-output .navbar li{word-spacing:-0.125em}.mw-parser-output .navbar a>span,.mw-parser-output .navbar a>abbr{text-decoration:inherit}.mw-parser-output .navbar-mini abbr{font-variant:small-caps;border-bottom:none;text-decoration:none;cursor:inherit}.mw-parser-output .navbar-ct-full{font-size:114%;margin:0 7em}.mw-parser-output .navbar-ct-mini{font-size:114%;margin:0 4em}</style><div class=\"navbar plainlinks hlist navbar-mini\"><ul><li class=\"nv-view\"><a href=\"/wiki/Template:SpaceX_missions_and_payloads\" title=\"Template:SpaceX missions and payloads\"><abbr style=\";;background:none transparent;border:none;box-shadow:none;padding:0;\" title=\"View this template\">v</abbr></a></li><li class=\"nv-talk\"><a href=\"/wiki/Template_talk:SpaceX_missions_and_payloads\" title=\"Template talk:SpaceX missions and payloads\"><abbr style=\";;background:none transparent;border:none;box-shadow:none;padding:0;\" title=\"Discuss this template\">t</abbr></a></li><li class=\"nv-edit\"><a class=\"external text\" href=\"https://en.wikipedia.org/w/index.php?title=Template:SpaceX_missions_and_payloads&amp;action=edit\"><abbr style=\";;background:none transparent;border:none;box-shadow:none;padding:0;\" title=\"Edit this template\">e</abbr></a></li></ul></div><div id=\"SpaceX_missions_and_payloads\" style=\"font-size:114%;margin:0 4em\">SpaceX missions and payloads</div></th>,\n",
       " <th class=\"navbox-group\" scope=\"row\" style=\"width:1%\"><a href=\"/wiki/SpaceX_launch_vehicles\" title=\"SpaceX launch vehicles\">SpaceX launch vehicles</a></th>,\n",
       " <th class=\"navbox-group\" scope=\"row\" style=\"width:1%\"><a href=\"/wiki/Falcon_1#Launch_history\" title=\"Falcon 1\">Falcon 1 missions</a></th>,\n",
       " <th class=\"navbox-group\" scope=\"row\" style=\"width:1%\"><a class=\"mw-selflink selflink\">Falcon 9 missions</a></th>,\n",
       " <th class=\"navbox-group\" scope=\"row\" style=\"width:1%\">Demo flights</th>,\n",
       " <th class=\"navbox-group\" scope=\"row\" style=\"width:1%\"><a class=\"mw-redirect\" href=\"/wiki/ISS\" title=\"ISS\">ISS</a> logistics</th>,\n",
       " <th class=\"navbox-group\" scope=\"row\" style=\"width:1%\">Crewed missions</th>,\n",
       " <th class=\"navbox-group\" scope=\"row\" style=\"width:1%\">Commercial satellites</th>,\n",
       " <th class=\"navbox-group\" scope=\"row\" style=\"width:1%\">Scientific satellites</th>,\n",
       " <th class=\"navbox-group\" scope=\"row\" style=\"width:1%\">Military satellites</th>,\n",
       " <th class=\"navbox-group\" scope=\"row\" style=\"width:1%\"><a href=\"/wiki/Starlink\" title=\"Starlink\">Starlink</a></th>,\n",
       " <th class=\"navbox-group\" scope=\"row\" style=\"width:1%\">Rideshares</th>,\n",
       " <th class=\"navbox-group\" scope=\"row\" style=\"width:1%\"><a href=\"/wiki/Falcon_Heavy#Scheduled_launches_and_potential_payloads\" title=\"Falcon Heavy\">Falcon Heavy missions</a></th>,\n",
       " <th class=\"navbox-group\" scope=\"row\" style=\"width:1%\"><a href=\"/wiki/List_of_SpaceX_Starship_flight_tests\" title=\"List of SpaceX Starship flight tests\"><i>Starship</i> missions</a></th>,\n",
       " <th class=\"navbox-title\" colspan=\"3\" scope=\"col\"><link href=\"mw-data:TemplateStyles:r1063604349\" rel=\"mw-deduplicated-inline-style\"/><div class=\"navbar plainlinks hlist navbar-mini\"><ul><li class=\"nv-view\"><a href=\"/wiki/Template:SpaceX\" title=\"Template:SpaceX\"><abbr style=\";;background:none transparent;border:none;box-shadow:none;padding:0;\" title=\"View this template\">v</abbr></a></li><li class=\"nv-talk\"><a href=\"/wiki/Template_talk:SpaceX\" title=\"Template talk:SpaceX\"><abbr style=\";;background:none transparent;border:none;box-shadow:none;padding:0;\" title=\"Discuss this template\">t</abbr></a></li><li class=\"nv-edit\"><a class=\"external text\" href=\"https://en.wikipedia.org/w/index.php?title=Template:SpaceX&amp;action=edit\"><abbr style=\";;background:none transparent;border:none;box-shadow:none;padding:0;\" title=\"Edit this template\">e</abbr></a></li></ul></div><div id=\"SpaceX\" style=\"font-size:114%;margin:0 4em\"><a href=\"/wiki/SpaceX\" title=\"SpaceX\">SpaceX</a></div></th>,\n",
       " <th class=\"navbox-group\" scope=\"row\" style=\"width:1%\"><a href=\"/wiki/SpaceX_launch_vehicles\" title=\"SpaceX launch vehicles\">Launch vehicles</a></th>,\n",
       " <th class=\"navbox-group\" scope=\"row\" style=\"width:1%\">Current</th>,\n",
       " <th class=\"navbox-group\" scope=\"row\" style=\"width:1%\">In development</th>,\n",
       " <th class=\"navbox-group\" scope=\"row\" style=\"width:1%\">Retired</th>,\n",
       " <th class=\"navbox-group\" scope=\"row\" style=\"width:1%\">Cancelled</th>,\n",
       " <th class=\"navbox-group\" scope=\"row\" style=\"width:1%\">Spacecraft</th>,\n",
       " <th class=\"navbox-group\" scope=\"row\" style=\"width:1%\">Cargo</th>,\n",
       " <th class=\"navbox-group\" scope=\"row\" style=\"width:1%\">Crewed</th>,\n",
       " <th class=\"navbox-group\" scope=\"row\" style=\"width:1%\">Test vehicles</th>,\n",
       " <th class=\"navbox-group\" scope=\"row\" style=\"width:1%\">Current</th>,\n",
       " <th class=\"navbox-group\" scope=\"row\" style=\"width:1%\">Retired</th>,\n",
       " <th class=\"navbox-group\" scope=\"row\" style=\"width:1%\">Unflown</th>,\n",
       " <th class=\"navbox-group\" scope=\"row\" style=\"width:1%\"><a href=\"/wiki/SpaceX_rocket_engines\" title=\"SpaceX rocket engines\">Rocket engines</a></th>,\n",
       " <th class=\"navbox-group\" scope=\"row\" style=\"width:1%\"><a href=\"/wiki/Template:SpaceX_missions_and_payloads\" title=\"Template:SpaceX missions and payloads\">Lists of missions</a></th>,\n",
       " <th class=\"navbox-group\" scope=\"row\" style=\"width:1%\"><a class=\"mw-redirect\" href=\"/wiki/SpaceX_launch_facilities\" title=\"SpaceX launch facilities\">Launch facilities</a></th>,\n",
       " <th class=\"navbox-group\" scope=\"row\" style=\"width:1%\">Orbital</th>,\n",
       " <th class=\"navbox-group\" scope=\"row\" style=\"width:1%\">Atmospheric</th>,\n",
       " <th class=\"navbox-group\" scope=\"row\" style=\"width:1%\">Landing sites</th>,\n",
       " <th class=\"navbox-group\" scope=\"row\" style=\"width:1%\">Other facilities</th>,\n",
       " <th class=\"navbox-group\" scope=\"row\" style=\"width:1%\">Support</th>,\n",
       " <th class=\"navbox-group\" scope=\"row\" style=\"width:1%\">Contracts</th>,\n",
       " <th class=\"navbox-group\" scope=\"row\" style=\"width:1%\">R&amp;D programs</th>,\n",
       " <th class=\"navbox-group\" scope=\"row\" style=\"width:1%\">Key people</th>,\n",
       " <th class=\"navbox-group\" scope=\"row\" style=\"width:1%\">Related</th>,\n",
       " <th class=\"navbox-title\" colspan=\"3\" scope=\"col\"><link href=\"mw-data:TemplateStyles:r1063604349\" rel=\"mw-deduplicated-inline-style\"/><div class=\"navbar plainlinks hlist navbar-mini\"><ul><li class=\"nv-view\"><a href=\"/wiki/Template:Spaceflight_lists_and_timelines\" title=\"Template:Spaceflight lists and timelines\"><abbr style=\";;background:none transparent;border:none;box-shadow:none;padding:0;\" title=\"View this template\">v</abbr></a></li><li class=\"nv-talk\"><a href=\"/wiki/Template_talk:Spaceflight_lists_and_timelines\" title=\"Template talk:Spaceflight lists and timelines\"><abbr style=\";;background:none transparent;border:none;box-shadow:none;padding:0;\" title=\"Discuss this template\">t</abbr></a></li><li class=\"nv-edit\"><a class=\"external text\" href=\"https://en.wikipedia.org/w/index.php?title=Template:Spaceflight_lists_and_timelines&amp;action=edit\"><abbr style=\";;background:none transparent;border:none;box-shadow:none;padding:0;\" title=\"Edit this template\">e</abbr></a></li></ul></div><div id=\"Spaceflight_lists_and_timelines\" style=\"font-size:114%;margin:0 4em\"><a href=\"/wiki/Spaceflight\" title=\"Spaceflight\">Spaceflight</a> lists and timelines</div></th>,\n",
       " <th class=\"navbox-group\" scope=\"row\" style=\"width:1%\">General</th>,\n",
       " <th class=\"navbox-group\" scope=\"row\" style=\"width:1%\"><a href=\"/wiki/Human_spaceflight\" title=\"Human spaceflight\">Human spaceflight</a></th>,\n",
       " <th class=\"navbox-group\" scope=\"row\" style=\"width:1%\">General</th>,\n",
       " <th class=\"navbox-group\" scope=\"row\" style=\"width:1%\"><a href=\"/wiki/Salyut_programme\" title=\"Salyut programme\">Salyut</a></th>,\n",
       " <th class=\"navbox-group\" scope=\"row\" style=\"width:1%\"><i><a href=\"/wiki/Mir\" title=\"Mir\">Mir</a></i></th>,\n",
       " <th class=\"navbox-group\" scope=\"row\" style=\"width:1%\"><a href=\"/wiki/International_Space_Station\" title=\"International Space Station\">ISS</a></th>,\n",
       " <th class=\"navbox-group\" scope=\"row\" style=\"width:1%\"><a href=\"/wiki/Tiangong_space_station\" title=\"Tiangong space station\">Tiangong</a></th>,\n",
       " <th class=\"navbox-group\" scope=\"row\" style=\"width:1%\"><a href=\"/wiki/Space_Shuttle\" title=\"Space Shuttle\">Shuttle</a></th>,\n",
       " <th class=\"navbox-group\" scope=\"row\" style=\"width:1%\">People</th>,\n",
       " <th class=\"navbox-group\" scope=\"row\" style=\"width:1%\"><a href=\"/wiki/Extravehicular_activity\" title=\"Extravehicular activity\">EVA</a></th>,\n",
       " <th class=\"navbox-group\" scope=\"row\" style=\"width:1%\"><a href=\"/wiki/Discovery_and_exploration_of_the_Solar_System\" title=\"Discovery and exploration of the Solar System\">Solar System<br/>exploration</a></th>,\n",
       " <th class=\"navbox-group\" scope=\"row\" style=\"width:1%\"><a href=\"/wiki/Geocentric_orbit\" title=\"Geocentric orbit\">Earth-orbiting<br/>satellites</a></th>,\n",
       " <th class=\"navbox-group\" scope=\"row\" style=\"width:1%\">Vehicles</th>,\n",
       " <th class=\"navbox-group\" scope=\"row\" style=\"width:1%\">Launches<br/>by rocket type</th>,\n",
       " <th class=\"navbox-group\" scope=\"row\" style=\"width:1%;line-height:1.15em;\">Launches by spaceport</th>,\n",
       " <th class=\"navbox-group\" scope=\"row\" style=\"width:1%\">Agencies, companies<br/>and facilities</th>,\n",
       " <th class=\"navbox-group\" scope=\"row\" style=\"width:1%;line-height:1.15em;\">Other mission lists<br/>and timelines</th>]"
      ]
     },
     "execution_count": 24,
     "metadata": {},
     "output_type": "execute_result"
    }
   ],
   "source": [
    "first_launch_table"
   ]
  },
  {
   "cell_type": "markdown",
   "metadata": {},
   "source": [
    "Check the extracted column names\n"
   ]
  },
  {
   "cell_type": "code",
   "execution_count": 47,
   "metadata": {},
   "outputs": [
    {
     "name": "stdout",
     "output_type": "stream",
     "text": [
      "[]\n"
     ]
    }
   ],
   "source": [
    "print(column_names)"
   ]
  },
  {
   "cell_type": "markdown",
   "metadata": {},
   "source": [
    "## TASK 3: Create a data frame by parsing the launch HTML tables\n"
   ]
  },
  {
   "cell_type": "markdown",
   "metadata": {},
   "source": [
    "We will create an empty dictionary with keys from the extracted column names in the previous task. Later, this dictionary will be converted into a Pandas dataframe\n"
   ]
  },
  {
   "cell_type": "code",
   "execution_count": 48,
   "metadata": {},
   "outputs": [
    {
     "ename": "KeyError",
     "evalue": "'Date and time ( )'",
     "output_type": "error",
     "traceback": [
      "\u001b[0;31m---------------------------------------------------------------------------\u001b[0m",
      "\u001b[0;31mKeyError\u001b[0m                                  Traceback (most recent call last)",
      "Input \u001b[0;32mIn [48]\u001b[0m, in \u001b[0;36m<cell line: 4>\u001b[0;34m()\u001b[0m\n\u001b[1;32m      1\u001b[0m launch_dict\u001b[38;5;241m=\u001b[39m \u001b[38;5;28mdict\u001b[39m\u001b[38;5;241m.\u001b[39mfromkeys(column_names)\n\u001b[1;32m      3\u001b[0m \u001b[38;5;66;03m# Remove an irrelvant column\u001b[39;00m\n\u001b[0;32m----> 4\u001b[0m \u001b[38;5;28;01mdel\u001b[39;00m launch_dict[\u001b[38;5;124m'\u001b[39m\u001b[38;5;124mDate and time ( )\u001b[39m\u001b[38;5;124m'\u001b[39m]\n\u001b[1;32m      6\u001b[0m \u001b[38;5;66;03m# Let's initial the launch_dict with each value to be an empty list\u001b[39;00m\n\u001b[1;32m      7\u001b[0m launch_dict[\u001b[38;5;124m'\u001b[39m\u001b[38;5;124mFlight No.\u001b[39m\u001b[38;5;124m'\u001b[39m] \u001b[38;5;241m=\u001b[39m []\n",
      "\u001b[0;31mKeyError\u001b[0m: 'Date and time ( )'"
     ]
    }
   ],
   "source": [
    "launch_dict= dict.fromkeys(column_names)\n",
    "\n",
    "# Remove an irrelvant column\n",
    "del launch_dict['Date and time ( )']\n",
    "\n",
    "# Let's initial the launch_dict with each value to be an empty list\n",
    "launch_dict['Flight No.'] = []\n",
    "launch_dict['Launch site'] = []\n",
    "launch_dict['Payload'] = []\n",
    "launch_dict['Payload mass'] = []\n",
    "launch_dict['Orbit'] = []\n",
    "launch_dict['Customer'] = []\n",
    "launch_dict['Launch outcome'] = []\n",
    "# Added some new columns\n",
    "launch_dict['Version Booster']=[]\n",
    "launch_dict['Booster landing']=[]\n",
    "launch_dict['Date']=[]\n",
    "launch_dict['Time']=[]"
   ]
  },
  {
   "cell_type": "markdown",
   "metadata": {},
   "source": [
    "Next, we just need to fill up the `launch_dict` with launch records extracted from table rows.\n"
   ]
  },
  {
   "cell_type": "markdown",
   "metadata": {},
   "source": [
    "Usually, HTML tables in Wiki pages are likely to contain unexpected annotations and other types of noises, such as reference links `B0004.1[8]`, missing values `N/A [e]`, inconsistent formatting, etc.\n"
   ]
  },
  {
   "cell_type": "markdown",
   "metadata": {},
   "source": [
    "To simplify the parsing process, we have provided an incomplete code snippet below to help you to fill up the `launch_dict`. Please complete the following code snippet with TODOs or you can choose to write your own logic to parse all launch tables:\n"
   ]
  },
  {
   "cell_type": "code",
   "execution_count": 49,
   "metadata": {},
   "outputs": [
    {
     "name": "stdout",
     "output_type": "stream",
     "text": [
      "F9 v1.0B0003.1\n",
      "F9 v1.0B0004.1\n",
      "F9 v1.0B0005.1\n",
      "F9 v1.0B0006.1\n",
      "F9 v1.0B0007.1\n",
      "F9 v1.1B1003\n",
      "F9 v1.1\n",
      "F9 v1.1\n",
      "F9 v1.1\n",
      "F9 v1.1\n",
      "F9 v1.1\n",
      "F9 v1.1\n",
      "F9 v1.1\n",
      "F9 v1.1\n",
      "F9 v1.1\n",
      "F9 v1.1\n",
      "F9 v1.1\n",
      "F9 v1.1\n",
      "F9 v1.1\n",
      "F9 FT\n",
      "F9 v1.1\n",
      "F9 FT\n",
      "F9 FT\n",
      "F9 FT\n",
      "F9 FT\n",
      "F9 FT\n",
      "F9 FT\n",
      "F9 FT\n",
      "F9 FT\n",
      "F9 FT\n",
      "F9 FT\n",
      "F9 FT♺\n",
      "F9 FT\n",
      "F9 FT\n",
      "F9 FT\n",
      "F9 FTB1029.2\n",
      "F9 FT\n",
      "F9 FT\n",
      "F9 B4\n",
      "F9 FT\n",
      "F9 B4\n",
      "F9 B4\n",
      "F9 FTB1031.2\n",
      "F9 B4\n",
      "F9 FTB1035.2\n",
      "F9 FTB1036.2\n",
      "F9 B4\n",
      "F9 FTB1032.2\n",
      "F9 FTB1038.2\n",
      "F9 B4\n",
      "F9 B4B1041.2\n",
      "F9 B4B1039.2\n",
      "F9 B4\n",
      "F9 B5B1046.1\n",
      "F9 B4B1043.2\n",
      "F9 B4B1040.2\n",
      "F9 B4B1045.2\n",
      "F9 B5\n",
      "F9 B5B1048\n",
      "F9 B5B1046.2\n",
      "F9 B5\n",
      "F9 B5B1048.2\n",
      "F9 B5B1047.2\n",
      "F9 B5B1046.3\n",
      "F9 B5\n",
      "F9 B5\n",
      "F9 B5B1049.2\n",
      "F9 B5B1048.3\n",
      "F9 B5[268]\n",
      "F9 B5\n",
      "F9 B5B1049.3\n",
      "F9 B5B1051.2\n",
      "F9 B5B1056.2\n",
      "F9 B5B1047.3\n",
      "F9 B5\n",
      "F9 B5\n",
      "F9 B5B1056.3\n",
      "F9 B5\n",
      "F9 B5\n",
      "F9 B5\n",
      "F9 B5\n",
      "F9 B5\n",
      "F9 B5\n",
      "F9 B5\n",
      "F9 B5\n",
      "F9 B5\n",
      "F9 B5\n",
      "F9 B5\n",
      "F9 B5B1058.2\n",
      "F9 B5\n",
      "F9 B5B1049.6\n",
      "F9 B5\n",
      "F9 B5B1060.2\n",
      "F9 B5B1058.3\n",
      "F9 B5B1051.6\n",
      "F9 B5\n",
      "F9 B5\n",
      "F9 B5\n",
      "F9 B5\n",
      "F9 B5 ♺\n",
      "F9 B5 ♺\n",
      "F9 B5 ♺\n",
      "F9 B5 ♺\n",
      "F9 B5\n",
      "F9 B5B1051.8\n",
      "F9 B5B1058.5\n"
     ]
    },
    {
     "ename": "AttributeError",
     "evalue": "'NoneType' object has no attribute 'string'",
     "output_type": "error",
     "traceback": [
      "\u001b[0;31m---------------------------------------------------------------------------\u001b[0m",
      "\u001b[0;31mAttributeError\u001b[0m                            Traceback (most recent call last)",
      "Input \u001b[0;32mIn [49]\u001b[0m, in \u001b[0;36m<cell line: 3>\u001b[0;34m()\u001b[0m\n\u001b[1;32m     57\u001b[0m orbit \u001b[38;5;241m=\u001b[39m row[\u001b[38;5;241m5\u001b[39m]\u001b[38;5;241m.\u001b[39ma\u001b[38;5;241m.\u001b[39mstring\n\u001b[1;32m     58\u001b[0m \u001b[38;5;66;03m#print(orbit)\u001b[39;00m\n\u001b[1;32m     59\u001b[0m \n\u001b[1;32m     60\u001b[0m \u001b[38;5;66;03m# Customer\u001b[39;00m\n\u001b[1;32m     61\u001b[0m \u001b[38;5;66;03m# TODO: Append the customer into launch_dict with key `Customer`\u001b[39;00m\n\u001b[0;32m---> 62\u001b[0m customer \u001b[38;5;241m=\u001b[39m \u001b[43mrow\u001b[49m\u001b[43m[\u001b[49m\u001b[38;5;241;43m6\u001b[39;49m\u001b[43m]\u001b[49m\u001b[38;5;241;43m.\u001b[39;49m\u001b[43ma\u001b[49m\u001b[38;5;241;43m.\u001b[39;49m\u001b[43mstring\u001b[49m\n\u001b[1;32m     63\u001b[0m \u001b[38;5;66;03m#print(customer)\u001b[39;00m\n\u001b[1;32m     64\u001b[0m \n\u001b[1;32m     65\u001b[0m \u001b[38;5;66;03m# Launch outcome\u001b[39;00m\n\u001b[1;32m     66\u001b[0m \u001b[38;5;66;03m# TODO: Append the launch_outcome into launch_dict with key `Launch outcome`\u001b[39;00m\n\u001b[1;32m     67\u001b[0m launch_outcome \u001b[38;5;241m=\u001b[39m \u001b[38;5;28mlist\u001b[39m(row[\u001b[38;5;241m7\u001b[39m]\u001b[38;5;241m.\u001b[39mstrings)[\u001b[38;5;241m0\u001b[39m]\n",
      "\u001b[0;31mAttributeError\u001b[0m: 'NoneType' object has no attribute 'string'"
     ]
    }
   ],
   "source": [
    "extracted_row = 0\n",
    "#Extract each table \n",
    "for table_number,table in enumerate(soup.find_all('table',\"wikitable plainrowheaders collapsible\")):\n",
    "   # get table row \n",
    "    for rows in table.find_all(\"tr\"):\n",
    "        #check to see if first table heading is as number corresponding to launch a number \n",
    "        if rows.th:\n",
    "            if rows.th.string:\n",
    "                flight_number=rows.th.string.strip()\n",
    "                flag=flight_number.isdigit()\n",
    "        else:\n",
    "            flag=False\n",
    "        #get table element \n",
    "        row=rows.find_all('td')\n",
    "        #if it is number save cells in a dictonary \n",
    "        if flag:\n",
    "            extracted_row += 1\n",
    "            # Flight Number value\n",
    "            # TODO: Append the flight_number into launch_dict with key `Flight No.`\n",
    "            #print(flight_number)\n",
    "            datatimelist=date_time(row[0])\n",
    "            \n",
    "            # Date value\n",
    "            # TODO: Append the date into launch_dict with key `Date`\n",
    "            date = datatimelist[0].strip(',')\n",
    "            #print(date)\n",
    "            \n",
    "            # Time value\n",
    "            # TODO: Append the time into launch_dict with key `Time`\n",
    "            time = datatimelist[1]\n",
    "            #print(time)\n",
    "              \n",
    "            # Booster version\n",
    "            # TODO: Append the bv into launch_dict with key `Version Booster`\n",
    "            bv=booster_version(row[1])\n",
    "            if not(bv):\n",
    "                bv=row[1].a.string\n",
    "            print(bv)\n",
    "            \n",
    "            # Launch Site\n",
    "            # TODO: Append the bv into launch_dict with key `Launch Site`\n",
    "            launch_site = row[2].a.string\n",
    "            #print(launch_site)\n",
    "            \n",
    "            # Payload\n",
    "            # TODO: Append the payload into launch_dict with key `Payload`\n",
    "            payload = row[3].a.string\n",
    "            #print(payload)\n",
    "            \n",
    "            # Payload Mass\n",
    "            # TODO: Append the payload_mass into launch_dict with key `Payload mass`\n",
    "            payload_mass = get_mass(row[4])\n",
    "            #print(payload)\n",
    "            \n",
    "            # Orbit\n",
    "            # TODO: Append the orbit into launch_dict with key `Orbit`\n",
    "            orbit = row[5].a.string\n",
    "            #print(orbit)\n",
    "            \n",
    "            # Customer\n",
    "            # TODO: Append the customer into launch_dict with key `Customer`\n",
    "            customer = row[6].a.string\n",
    "            #print(customer)\n",
    "            \n",
    "            # Launch outcome\n",
    "            # TODO: Append the launch_outcome into launch_dict with key `Launch outcome`\n",
    "            launch_outcome = list(row[7].strings)[0]\n",
    "            #print(launch_outcome)\n",
    "            \n",
    "            # Booster landing\n",
    "            # TODO: Append the launch_outcome into launch_dict with key `Booster landing`\n",
    "            booster_landing = landing_status(row[8])\n",
    "            #print(booster_landing)\n",
    "            "
   ]
  },
  {
   "cell_type": "markdown",
   "metadata": {},
   "source": [
    "After you have fill in the parsed launch record values into `launch_dict`, you can create a dataframe from it.\n"
   ]
  },
  {
   "cell_type": "code",
   "execution_count": 51,
   "metadata": {},
   "outputs": [],
   "source": [
    "df=pd.DataFrame(launch_dict)"
   ]
  },
  {
   "cell_type": "markdown",
   "metadata": {},
   "source": [
    "We can now export it to a <b>CSV</b> for the next section, but to make the answers consistent and in case you have difficulties finishing this lab.\n",
    "\n",
    "Following labs will be using a provided dataset to make each lab independent.\n"
   ]
  },
  {
   "cell_type": "markdown",
   "metadata": {},
   "source": [
    "<code>df.to_csv('spacex_web_scraped.csv', index=False)</code>\n"
   ]
  },
  {
   "cell_type": "markdown",
   "metadata": {},
   "source": [
    "## Authors\n"
   ]
  },
  {
   "cell_type": "markdown",
   "metadata": {},
   "source": [
    "<a href=\"https://www.linkedin.com/in/yan-luo-96288783/?utm_medium=Exinfluencer&utm_source=Exinfluencer&utm_content=000026UJ&utm_term=10006555&utm_id=NA-SkillsNetwork-Channel-SkillsNetworkCoursesIBMDS0321ENSkillsNetwork26802033-2022-01-01\">Yan Luo</a>\n"
   ]
  },
  {
   "cell_type": "markdown",
   "metadata": {},
   "source": [
    "<a href=\"https://www.linkedin.com/in/nayefaboutayoun/?utm_medium=Exinfluencer&utm_source=Exinfluencer&utm_content=000026UJ&utm_term=10006555&utm_id=NA-SkillsNetwork-Channel-SkillsNetworkCoursesIBMDS0321ENSkillsNetwork26802033-2022-01-01\">Nayef Abou Tayoun</a>\n"
   ]
  },
  {
   "cell_type": "markdown",
   "metadata": {},
   "source": [
    "## Change Log\n"
   ]
  },
  {
   "cell_type": "markdown",
   "metadata": {},
   "source": [
    "| Date (YYYY-MM-DD) | Version | Changed By | Change Description          |\n",
    "| ----------------- | ------- | ---------- | --------------------------- |\n",
    "| 2021-06-09        | 1.0     | Yan Luo    | Tasks updates               |\n",
    "| 2020-11-10        | 1.0     | Nayef      | Created the initial version |\n"
   ]
  },
  {
   "cell_type": "markdown",
   "metadata": {},
   "source": [
    "Copyright © 2021 IBM Corporation. All rights reserved.\n"
   ]
  }
 ],
 "metadata": {
  "kernelspec": {
   "display_name": "Python 3.10",
   "language": "python",
   "name": "python3"
  },
  "language_info": {
   "codemirror_mode": {
    "name": "ipython",
    "version": 3
   },
   "file_extension": ".py",
   "mimetype": "text/x-python",
   "name": "python",
   "nbconvert_exporter": "python",
   "pygments_lexer": "ipython3",
   "version": "3.10.6"
  }
 },
 "nbformat": 4,
 "nbformat_minor": 4
}
